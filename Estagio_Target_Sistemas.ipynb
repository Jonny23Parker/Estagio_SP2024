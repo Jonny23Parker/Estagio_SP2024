{
  "nbformat": 4,
  "nbformat_minor": 0,
  "metadata": {
    "colab": {
      "provenance": [],
      "authorship_tag": "ABX9TyMKK1SvTTxcRnonCChLWTcI",
      "include_colab_link": true
    },
    "kernelspec": {
      "name": "python3",
      "display_name": "Python 3"
    },
    "language_info": {
      "name": "python"
    }
  },
  "cells": [
    {
      "cell_type": "markdown",
      "metadata": {
        "id": "view-in-github",
        "colab_type": "text"
      },
      "source": [
        "<a href=\"https://colab.research.google.com/github/Jonny23Parker/Estagio_SP2024/blob/main/Estagio_Target_Sistemas.ipynb\" target=\"_parent\"><img src=\"https://colab.research.google.com/assets/colab-badge.svg\" alt=\"Open In Colab\"/></a>"
      ]
    },
    {
      "cell_type": "markdown",
      "source": [
        "1)  Observe o trecho de código abaixo: int INDICE = 13, SOMA = 0, K = 0;\n",
        "\n",
        "Enquanto K < INDICE faça { K = K + 1; SOMA = SOMA + K; }\n",
        "Imprimir(SOMA);\n",
        "\n",
        "Ao final do processamento, qual será o valor da variável SOMA?"
      ],
      "metadata": {
        "id": "wLXRtzz-pKkx"
      }
    },
    {
      "cell_type": "code",
      "execution_count": null,
      "metadata": {
        "colab": {
          "base_uri": "https://localhost:8080/"
        },
        "id": "OOunsovCoYsT",
        "outputId": "86434926-fb3f-4109-9805-2b6588b013d3"
      },
      "outputs": [
        {
          "output_type": "stream",
          "name": "stdout",
          "text": [
            "O valor da variável SOMA ao final do processamento é 91\n"
          ]
        }
      ],
      "source": [
        "INDICE = 13\n",
        "SOMA = 0\n",
        "K = 0\n",
        "\n",
        "while K < INDICE:\n",
        "    K += 1\n",
        "    SOMA += K\n",
        "\n",
        "print(f\"O valor da variável SOMA ao final do processamento é {SOMA}\")\n",
        "\n"
      ]
    },
    {
      "cell_type": "markdown",
      "source": [
        "2) Dado a sequência de Fibonacci, onde se inicia por 0 e 1 e o próximo valor sempre será a soma dos 2 valores anteriores (exemplo: 0, 1, 1, 2, 3, 5, 8, 13, 21, 34...), escreva um programa na linguagem que desejar onde, informado um número, ele calcule a sequência de Fibonacci e retorne uma mensagem avisando se o número informado pertence ou não a sequência.\n",
        "\n",
        "IMPORTANTE: Esse número pode ser informado através de qualquer entrada de sua preferência ou pode ser previamente definido no código;"
      ],
      "metadata": {
        "id": "6v362tGLpX6Q"
      }
    },
    {
      "cell_type": "code",
      "source": [
        "def fibonacci(n):\n",
        "    fib_sequence = [0, 1]\n",
        "    while fib_sequence[-1] < n:\n",
        "        fib_sequence.append(fib_sequence[-1] + fib_sequence[-2])\n",
        "    return fib_sequence\n",
        "\n",
        "def pertence_fibonacci(num):\n",
        "    fib_sequence = fibonacci(num)\n",
        "    if num in fib_sequence:\n",
        "        return f\"O número {num} pertence à sequência de Fibonacci.\"\n",
        "    else:\n",
        "        return f\"O número {num} não pertence à sequência de Fibonacci.\"\n",
        "\n",
        "# Exemplo de número\n",
        "numero = 21  # Altere conforme desejado\n",
        "print(pertence_fibonacci(numero))\n"
      ],
      "metadata": {
        "colab": {
          "base_uri": "https://localhost:8080/"
        },
        "id": "s96xn_shpipy",
        "outputId": "313a5972-46c7-4632-9b8d-6b0ee3cda3dd"
      },
      "execution_count": null,
      "outputs": [
        {
          "output_type": "stream",
          "name": "stdout",
          "text": [
            "O número 21 pertence à sequência de Fibonacci.\n"
          ]
        }
      ]
    },
    {
      "cell_type": "markdown",
      "source": [
        "3) Dado um vetor que guarda o valor de faturamento diário de uma distribuidora, faça um programa, na linguagem que desejar, que calcule e retorne:\n",
        "\n",
        "• O menor valor de faturamento ocorrido em um dia do mês;\n",
        "\n",
        "• O maior valor de faturamento ocorrido em um dia do mês;\n",
        "\n",
        "• Número de dias no mês em que o valor de faturamento diário foi superior à média mensal.\n",
        "\n",
        "\n",
        "IMPORTANTE:\n",
        "\n",
        "a) Usar o json ou xml disponível como fonte dos dados do faturamento mensal;\n",
        "\n",
        "b) Podem existir dias sem faturamento, como nos finais de semana e feriados. Estes dias devem ser ignorados no cálculo da média;"
      ],
      "metadata": {
        "id": "oZ_X6qkVpviw"
      }
    },
    {
      "source": [
        "import requests\n",
        "import json\n",
        "\n",
        "# URL do arquivo JSON no GitHub (usei o link direto do GitHub)\n",
        "url = 'https://raw.githubusercontent.com/Jonny23Parker/Estagio_SP2024/main/dados.json'\n",
        "\n",
        "# Fazendo a requisição para buscar os dados do arquivo JSON\n",
        "response = requests.get(url)\n",
        "\n",
        "# Verificando se a requisição se foi bem-sucedida\n",
        "if response.status_code == 200:\n",
        "    # Carregando os dados do arquivo JSON\n",
        "    dados = json.loads(response.content.decode('utf-8'))\n",
        "\n",
        "    # Aqui vai extrair o faturamento diário.\n",
        "    # O arquivo json contém uma lista.\n",
        "    # Percorra a lista e extraia o 'valor' de cada.\n",
        "    faturamento_diario = [item['valor'] for item in dados]\n",
        "\n",
        "    # Filtra os dias com faturamento maior que zero (remover dias sem faturamento)\n",
        "    faturamento_diario = [f for f in faturamento_diario if f > 0]\n",
        "\n",
        "    # Calculando o menor, o maior faturamento e a média mensal\n",
        "    menor_faturamento = min(faturamento_diario)\n",
        "    maior_faturamento = max(faturamento_diario)\n",
        "    media_mensal = sum(faturamento_diario) / len(faturamento_diario)\n",
        "\n",
        "    # Contando os dias com faturamento superior à média\n",
        "    dias_acima_media = sum(1 for f in faturamento_diario if f > media_mensal)\n",
        "\n",
        "    # os prints Exibira os resultados: menor, maior e acima média\n",
        "    print(f\"Menor faturamento: R${menor_faturamento:.2f}\")\n",
        "    print(f\"Maior faturamento: R${maior_faturamento:.2f}\")\n",
        "    print(f\"Média mensal: R${media_mensal:.2f}\")\n",
        "    print(f\"Dias com faturamento acima da média: {dias_acima_media}\")\n",
        "    # Se der erro no load do arquivo, sera exibido o codigo.\n",
        "else:\n",
        "    print(f\"Erro ao buscar o arquivo JSON. Status Code: {response.status_code}\")"
      ],
      "cell_type": "code",
      "metadata": {
        "colab": {
          "base_uri": "https://localhost:8080/"
        },
        "id": "mHcPajO_egjB",
        "outputId": "4e0cedd7-5899-4507-990a-4eb513672da4"
      },
      "execution_count": 8,
      "outputs": [
        {
          "output_type": "stream",
          "name": "stdout",
          "text": [
            "Menor faturamento: R$373.78\n",
            "Maior faturamento: R$48924.24\n",
            "Média mensal: R$20865.37\n",
            "Dias com faturamento acima da média: 10\n"
          ]
        }
      ]
    },
    {
      "cell_type": "markdown",
      "source": [
        "4) Dado o valor de faturamento mensal de uma distribuidora, detalhado por estado:\n",
        "\n",
        "• SP – 67.836,43\n",
        "\n",
        "• RJ – 36.678,66\n",
        "\n",
        "• MG – 29.229,88\n",
        "\n",
        "• ES – 27.165,48\n",
        "\n",
        "• Outros – 19.849,53\n",
        "\n",
        "Escreva um programa na linguagem que desejar onde calcule o percentual de representação que cada estado teve dentro do valor total mensal da distribuidora."
      ],
      "metadata": {
        "id": "iVMkYOOVqAo4"
      }
    },
    {
      "cell_type": "code",
      "source": [
        "# Dados de faturamento por estado\n",
        "faturamento = {\n",
        "    \"SP\": 67836.43,\n",
        "    \"RJ\": 36678.66,\n",
        "    \"MG\": 29229.88,\n",
        "    \"ES\": 27165.48,\n",
        "    \"Outros\": 19849.53\n",
        "}\n",
        "\n",
        "# Calculando o faturamento total\n",
        "total_faturamento = sum(faturamento.values())\n",
        "\n",
        "# Calculando o percentual de cada estado\n",
        "percentuais = {estado: (valor / total_faturamento) * 100 for estado, valor in faturamento.items()}\n",
        "\n",
        "# Exibindo os percentuais\n",
        "for estado, percentual in percentuais.items():\n",
        "    print(f\"{estado}: {percentual:.2f}%\")\n"
      ],
      "metadata": {
        "id": "_yvlru_VqA9o"
      },
      "execution_count": null,
      "outputs": []
    },
    {
      "cell_type": "markdown",
      "source": [
        "5) Escreva um programa que inverta os caracteres de um string.\n",
        "\n",
        "IMPORTANTE:\n",
        "\n",
        "a) Essa string pode ser informada através de qualquer entrada de sua preferência ou pode ser previamente definida no código;\n",
        "\n",
        "b) Evite usar funções prontas, como, por exemplo, reverse;"
      ],
      "metadata": {
        "id": "0QnKZVw3rdCi"
      }
    },
    {
      "cell_type": "code",
      "source": [
        "def inverter_string(s):\n",
        "    string_invertida = ''\n",
        "    for char in s:\n",
        "        string_invertida = char + string_invertida  # Adiciona cada caractere no início\n",
        "    return string_invertida\n",
        "\n",
        "# Exemplo de string\n",
        "entrada = input(\"Digite o que deseja inverter = \")  # Substitua pela string desejada entrada\n",
        "print(inverter_string(entrada))\n"
      ],
      "metadata": {
        "colab": {
          "base_uri": "https://localhost:8080/"
        },
        "id": "YUkjqQjtr1nY",
        "outputId": "ac91bd2b-cdb6-4c9b-d14f-26369079c10f"
      },
      "execution_count": null,
      "outputs": [
        {
          "output_type": "stream",
          "name": "stdout",
          "text": [
            "Digite o que deseja inverter = Estagio Target Sistemas\n",
            "sametsiS tegraT oigatsE\n"
          ]
        }
      ]
    }
  ]
}